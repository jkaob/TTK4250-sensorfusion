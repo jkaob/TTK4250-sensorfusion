{
 "cells": [
  {
   "cell_type": "code",
   "execution_count": 1,
   "metadata": {},
   "outputs": [
    {
     "name": "stdout",
     "output_type": "stream",
     "text": [
      "matplotlib backend: module://ipykernel.pylab.backend_inline\n",
      "matplotlib config file: c:\\users\\jeg_j\\appdata\\local\\programs\\python\\python37-32\\lib\\site-packages\\matplotlib\\mpl-data\\matplotlibrc\n",
      "matplotlib config dir: C:\\SPB_Data\\.matplotlib\n"
     ]
    }
   ],
   "source": [
    "# %% imports\n",
    "import scipy\n",
    "import scipy.io\n",
    "import scipy.stats\n",
    "\n",
    "import matplotlib\n",
    "import matplotlib.pyplot as plt\n",
    "import numpy as np\n",
    "\n",
    "try: # see if tqdm is available, otherwise define it as a dummy\n",
    "    try: # Ipython seem to require different tqdm.. try..except seem to be the easiest way to check\n",
    "        __IPYTHON__\n",
    "        from tqdm.notebook import tqdm\n",
    "    except:\n",
    "        from tqdm import tqdm\n",
    "except Exception as e:\n",
    "    print(e)\n",
    "    print(\n",
    "        \"install tqdm (conda install tqdm, or pip install tqdm) to get nice progress bars. \"\n",
    "    )\n",
    "\n",
    "    def tqdm(iterable, *args, **kwargs):\n",
    "        return iterable\n",
    "\n",
    "from eskf import (\n",
    "    ESKF,\n",
    "    POS_IDX,\n",
    "    VEL_IDX,\n",
    "    ATT_IDX,\n",
    "    ACC_BIAS_IDX,\n",
    "    GYRO_BIAS_IDX,\n",
    "    ERR_ATT_IDX,\n",
    "    ERR_ACC_BIAS_IDX,\n",
    "    ERR_GYRO_BIAS_IDX,\n",
    ")\n",
    "\n",
    "from quaternion import quaternion_to_euler\n",
    "from cat_slice import CatSlice\n",
    "\n",
    "# %% plot config check and style setup\n",
    "\n",
    "\n",
    "# to see your plot config\n",
    "print(f\"matplotlib backend: {matplotlib.get_backend()}\")\n",
    "print(f\"matplotlib config file: {matplotlib.matplotlib_fname()}\")\n",
    "print(f\"matplotlib config dir: {matplotlib.get_configdir()}\")\n",
    "plt.close(\"all\")\n"
   ]
  },
  {
   "cell_type": "code",
   "execution_count": 2,
   "metadata": {},
   "outputs": [
    {
     "name": "stdout",
     "output_type": "stream",
     "text": [
      "[[-0.12121212  0.84848485  0.51515152]\n",
      " [ 0.96969697  0.21212121 -0.12121212]\n",
      " [-0.21212121  0.48484848 -0.84848485]]\n",
      "[2.62244654 0.21374506 1.69515132]\n"
     ]
    }
   ],
   "source": [
    "import utils\n",
    "import quaternion as q\n",
    "import eskf\n",
    "\n",
    "q1 = np.array([1.0, 0.0, 1.0, 0.0])\n",
    "q1 = q1/np.linalg.norm(q1)\n",
    "q2 = np.array([1.0, 0.5, 0.5, 0.75])\n",
    "q2 = q2/np.linalg.norm(q2)\n",
    "\n",
    "\n",
    "q3 = q.quaternion_product(q1, q2)"
   ]
  },
  {
   "cell_type": "code",
   "execution_count": null,
   "metadata": {},
   "outputs": [],
   "source": []
  },
  {
   "cell_type": "code",
   "execution_count": null,
   "metadata": {},
   "outputs": [],
   "source": []
  },
  {
   "cell_type": "code",
   "execution_count": null,
   "metadata": {},
   "outputs": [],
   "source": []
  }
 ],
 "metadata": {
  "kernelspec": {
   "display_name": "Python 3",
   "language": "python",
   "name": "python3"
  },
  "language_info": {
   "codemirror_mode": {
    "name": "ipython",
    "version": 3
   },
   "file_extension": ".py",
   "mimetype": "text/x-python",
   "name": "python",
   "nbconvert_exporter": "python",
   "pygments_lexer": "ipython3",
   "version": "3.7.4"
  }
 },
 "nbformat": 4,
 "nbformat_minor": 4
}
