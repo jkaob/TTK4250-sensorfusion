{
 "cells": [
  {
   "cell_type": "code",
   "execution_count": 1,
   "metadata": {},
   "outputs": [
    {
     "name": "stdout",
     "output_type": "stream",
     "text": [
      "matplotlib backend: module://ipykernel.pylab.backend_inline\n",
      "matplotlib config file: /home/jakobeg/.local/lib/python3.6/site-packages/matplotlib/mpl-data/matplotlibrc\n",
      "matplotlib config dir: /home/jakobeg/.config/matplotlib\n",
      "pyplot using style set ['science', 'grid', 'bright', 'no-latex']\n"
     ]
    }
   ],
   "source": [
    "# %% Imports\n",
    "from typing import List, Optional\n",
    "\n",
    "from scipy.io import loadmat\n",
    "import numpy as np\n",
    "\n",
    "import matplotlib\n",
    "import matplotlib.pyplot as plt\n",
    "from matplotlib import animation\n",
    "from scipy.stats import chi2\n",
    "import utils\n",
    "\n",
    "try:\n",
    "    from tqdm import tqdm\n",
    "except ImportError as e:\n",
    "    print(e)\n",
    "    print(\"install tqdm to have progress bar\")\n",
    "\n",
    "    # def tqdm as dummy as it is not available\n",
    "    def tqdm(*args, **kwargs):\n",
    "        return args[0]\n",
    "\n",
    "# %% plot config check and style setup\n",
    "\n",
    "\n",
    "# to see your plot config\n",
    "print(f\"matplotlib backend: {matplotlib.get_backend()}\")\n",
    "print(f\"matplotlib config file: {matplotlib.matplotlib_fname()}\")\n",
    "print(f\"matplotlib config dir: {matplotlib.get_configdir()}\")\n",
    "plt.close(\"all\")\n",
    "\"\"\"\n",
    "# try to set separate window ploting\n",
    "if \"inline\" in matplotlib.get_backend():\n",
    "    print(\"Plotting is set to inline at the moment:\", end=\" \")\n",
    "\n",
    "    if \"ipykernel\" in matplotlib.get_backend():\n",
    "        print(\"backend is ipykernel (IPython?)\")\n",
    "        print(\"Trying to set backend to separate window:\", end=\" \")\n",
    "        import IPython\n",
    "\n",
    "        IPython.get_ipython().run_line_magic(\"matplotlib\", \"\")\n",
    "    else:\n",
    "        print(\"unknown inline backend\")\n",
    "print(\"continuing with this plotting backend\", end=\"\\n\\n\\n\")\n",
    "\"\"\"\n",
    "\n",
    "# set styles\n",
    "try:\n",
    "    # installed with \"pip install SciencePLots\" (https://github.com/garrettj403/SciencePlots.git)\n",
    "    # gives quite nice plots\n",
    "    plt_styles = [\"science\", \"grid\", \"bright\", \"no-latex\"]\n",
    "    plt.style.use(plt_styles)\n",
    "    print(f\"pyplot using style set {plt_styles}\")\n",
    "except Exception as e:\n",
    "    print(e)\n",
    "    print(\"setting grid and only grid and legend manually\")\n",
    "    plt.rcParams.update(\n",
    "        {\n",
    "            # setgrid\n",
    "            \"axes.grid\": True,\n",
    "            \"grid.linestyle\": \":\",\n",
    "            \"grid.color\": \"k\",\n",
    "            \"grid.alpha\": 0.5,\n",
    "            \"grid.linewidth\": 0.5,\n",
    "            # Legend\n",
    "            \"legend.frameon\": True,\n",
    "            \"legend.framealpha\": 1.0,\n",
    "            \"legend.fancybox\": True,\n",
    "            \"legend.numpoints\": 1,\n",
    "        }\n",
    "    )"
   ]
  },
  {
   "cell_type": "code",
   "execution_count": 2,
   "metadata": {},
   "outputs": [
    {
     "name": "stdout",
     "output_type": "stream",
     "text": [
      "(14.772116295183121, 2.6047226650039548)\n"
     ]
    }
   ],
   "source": [
    "#test cell\n",
    "\n",
    "from EKFSLAM import EKFSLAM\n",
    "from plotting import ellipse\n",
    "\n",
    "print(utils.polar2cartesian(15,10*np.pi/180))\n",
    "\n",
    "eta0 = np.array([1,1,1,0,0])"
   ]
  },
  {
   "cell_type": "code",
   "execution_count": 3,
   "metadata": {},
   "outputs": [
    {
     "name": "stderr",
     "output_type": "stream",
     "text": [
      "0it [00:00, ?it/s]"
     ]
    },
    {
     "name": "stdout",
     "output_type": "stream",
     "text": [
      "starting sim (1000 iterations)\n",
      "zpred shape:  (18,)\n"
     ]
    },
    {
     "name": "stderr",
     "output_type": "stream",
     "text": [
      "findfont: Font family ['serif'] not found. Falling back to DejaVu Sans.\n",
      "findfont: Font family ['serif'] not found. Falling back to DejaVu Sans.\n"
     ]
    },
    {
     "name": "stdout",
     "output_type": "stream",
     "text": [
      "numLmk=9  S: (18, 18), Sa: (10, 10), R: (18, 18)\n"
     ]
    },
    {
     "data": {
      "image/png": "[encoded data removed]",
      "text/plain": [
       "<Figure size 252x189 with 1 Axes>"
      ]
     },
     "metadata": {
      "needs_background": "light"
     },
     "output_type": "display_data"
    },
    {
     "name": "stderr",
     "output_type": "stream",
     "text": [
      "2it [00:00,  2.17it/s]"
     ]
    },
    {
     "name": "stdout",
     "output_type": "stream",
     "text": [
      "zpred shape:  (26,)\n"
     ]
    },
    {
     "name": "stderr",
     "output_type": "stream",
     "text": [
      "2it [00:11,  5.61s/it]"
     ]
    },
    {
     "name": "stdout",
     "output_type": "stream",
     "text": [
      "numLmk=13  S: (26, 26), Sa: (14, 14), R: (26, 26)\n"
     ]
    },
    {
     "name": "stderr",
     "output_type": "stream",
     "text": [
      "\n"
     ]
    },
    {
     "ename": "AssertionError",
     "evalue": "EKFSLAM.update: Pupd not positive definite",
     "output_type": "error",
     "traceback": [
      "\u001b[0;31m---------------------------------------------------------------------------\u001b[0m",
      "\u001b[0;31mAssertionError\u001b[0m                            Traceback (most recent call last)",
      "\u001b[0;32m<ipython-input-3-b54d7fc01f7a>\u001b[0m in \u001b[0;36m<module>\u001b[0;34m\u001b[0m\n\u001b[1;32m     70\u001b[0m \u001b[0;32mfor\u001b[0m \u001b[0mk\u001b[0m\u001b[0;34m,\u001b[0m \u001b[0mz_k\u001b[0m \u001b[0;32min\u001b[0m \u001b[0mtqdm\u001b[0m\u001b[0;34m(\u001b[0m\u001b[0menumerate\u001b[0m\u001b[0;34m(\u001b[0m\u001b[0mz\u001b[0m\u001b[0;34m[\u001b[0m\u001b[0;34m:\u001b[0m\u001b[0mN\u001b[0m\u001b[0;34m]\u001b[0m\u001b[0;34m)\u001b[0m\u001b[0;34m)\u001b[0m\u001b[0;34m:\u001b[0m\u001b[0;34m\u001b[0m\u001b[0;34m\u001b[0m\u001b[0m\n\u001b[1;32m     71\u001b[0m \u001b[0;34m\u001b[0m\u001b[0m\n\u001b[0;32m---> 72\u001b[0;31m     \u001b[0meta_hat\u001b[0m\u001b[0;34m[\u001b[0m\u001b[0mk\u001b[0m\u001b[0;34m]\u001b[0m\u001b[0;34m,\u001b[0m \u001b[0mP_hat\u001b[0m\u001b[0;34m[\u001b[0m\u001b[0mk\u001b[0m\u001b[0;34m]\u001b[0m\u001b[0;34m,\u001b[0m \u001b[0mNIS\u001b[0m\u001b[0;34m[\u001b[0m\u001b[0mk\u001b[0m\u001b[0;34m]\u001b[0m\u001b[0;34m,\u001b[0m \u001b[0ma\u001b[0m\u001b[0;34m[\u001b[0m\u001b[0mk\u001b[0m\u001b[0;34m]\u001b[0m \u001b[0;34m=\u001b[0m \u001b[0mslam\u001b[0m\u001b[0;34m.\u001b[0m\u001b[0mupdate\u001b[0m\u001b[0;34m(\u001b[0m\u001b[0meta_pred\u001b[0m\u001b[0;34m[\u001b[0m\u001b[0mk\u001b[0m\u001b[0;34m]\u001b[0m\u001b[0;34m,\u001b[0m \u001b[0mP_pred\u001b[0m\u001b[0;34m[\u001b[0m\u001b[0mk\u001b[0m\u001b[0;34m]\u001b[0m\u001b[0;34m,\u001b[0m \u001b[0mz_k\u001b[0m\u001b[0;34m)\u001b[0m\u001b[0;34m\u001b[0m\u001b[0;34m\u001b[0m\u001b[0m\n\u001b[0m\u001b[1;32m     73\u001b[0m \u001b[0;34m\u001b[0m\u001b[0m\n\u001b[1;32m     74\u001b[0m     \u001b[0;32mif\u001b[0m \u001b[0mk\u001b[0m \u001b[0;34m<\u001b[0m \u001b[0mK\u001b[0m \u001b[0;34m-\u001b[0m \u001b[0;36m1\u001b[0m\u001b[0;34m:\u001b[0m\u001b[0;34m\u001b[0m\u001b[0;34m\u001b[0m\u001b[0m\n",
      "\u001b[0;32m~/Documents/TTK4250-sensorfusion/o8/EKFSLAM.py\u001b[0m in \u001b[0;36mupdate\u001b[0;34m(self, eta, P, z)\u001b[0m\n\u001b[1;32m    391\u001b[0m                 \u001b[0;31m# When tested, remove for speed\u001b[0m\u001b[0;34m\u001b[0m\u001b[0;34m\u001b[0m\u001b[0;34m\u001b[0m\u001b[0m\n\u001b[1;32m    392\u001b[0m                 \u001b[0;32massert\u001b[0m \u001b[0mnp\u001b[0m\u001b[0;34m.\u001b[0m\u001b[0mallclose\u001b[0m\u001b[0;34m(\u001b[0m\u001b[0mPupd\u001b[0m\u001b[0;34m,\u001b[0m \u001b[0mPupd\u001b[0m\u001b[0;34m.\u001b[0m\u001b[0mT\u001b[0m\u001b[0;34m)\u001b[0m\u001b[0;34m,\u001b[0m \u001b[0;34m\"EKFSLAM.update: Pupd not symmetric\"\u001b[0m\u001b[0;34m\u001b[0m\u001b[0;34m\u001b[0m\u001b[0m\n\u001b[0;32m--> 393\u001b[0;31m                 \u001b[0;32massert\u001b[0m \u001b[0mnp\u001b[0m\u001b[0;34m.\u001b[0m\u001b[0mall\u001b[0m\u001b[0;34m(\u001b[0m     \u001b[0mnp\u001b[0m\u001b[0;34m.\u001b[0m\u001b[0mlinalg\u001b[0m\u001b[0;34m.\u001b[0m\u001b[0meigvals\u001b[0m\u001b[0;34m(\u001b[0m\u001b[0mPupd\u001b[0m\u001b[0;34m)\u001b[0m \u001b[0;34m>\u001b[0m \u001b[0;36m0\u001b[0m \u001b[0;34m)\u001b[0m\u001b[0;34m,\u001b[0m \u001b[0;34m\"EKFSLAM.update: Pupd not positive definite\"\u001b[0m\u001b[0;34m\u001b[0m\u001b[0;34m\u001b[0m\u001b[0m\n\u001b[0m\u001b[1;32m    394\u001b[0m \u001b[0;34m\u001b[0m\u001b[0m\n\u001b[1;32m    395\u001b[0m         \u001b[0;32melse\u001b[0m\u001b[0;34m:\u001b[0m  \u001b[0;31m# All measurements are new landmarks,\u001b[0m\u001b[0;34m\u001b[0m\u001b[0;34m\u001b[0m\u001b[0m\n",
      "\u001b[0;31mAssertionError\u001b[0m: EKFSLAM.update: Pupd not positive definite"
     ]
    }
   ],
   "source": [
    "# %% Load data\n",
    "simSLAM_ws = loadmat(\"simulatedSLAM\")\n",
    "\n",
    "## NB: this is a MATLAB cell, so needs to \"double index\" to get out the measurements of a time step k:\n",
    "#\n",
    "# ex:\n",
    "#\n",
    "# z_k = z[k][0] # z_k is a (2, m_k) matrix with columns equal to the measurements of time step k\n",
    "#\n",
    "##\n",
    "z = [zk.T for zk in simSLAM_ws[\"z\"].ravel()]\n",
    "\n",
    "landmarks = simSLAM_ws[\"landmarks\"].T\n",
    "odometry  = simSLAM_ws[\"odometry\"].T\n",
    "poseGT    = simSLAM_ws[\"poseGT\"].T\n",
    "\n",
    "K = len(z)\n",
    "M = len(landmarks)\n",
    "\n",
    "# %% Initilize\n",
    "Q = np.diag([2**2, \n",
    "             2**2, \n",
    "            (5*np.pi/180)**2])\n",
    "\n",
    "R = np.diag([7**2,              #sigma_r\n",
    "            (10*np.pi/180)**2])  #sigma_theta\n",
    "\n",
    "doAsso = True\n",
    "\n",
    "JCBBalphas = np.array([0.10, \n",
    "                       0.01])  \n",
    "# first is for joint compatibility, second is individual\n",
    "# these can have a large effect on runtime either through the number of landmarks created\n",
    "# or by the size of the association search space.\n",
    "\n",
    "slam = EKFSLAM(Q, R, do_asso=doAsso, alphas=JCBBalphas)\n",
    "\n",
    "# allocate\n",
    "eta_pred : List[Optional[np.ndarray]] = [None] * K\n",
    "P_pred   : List[Optional[np.ndarray]] = [None] * K\n",
    "eta_hat  : List[Optional[np.ndarray]] = [None] * K\n",
    "P_hat    : List[Optional[np.ndarray]] = [None] * K\n",
    "a        : List[Optional[np.ndarray]] = [None] * K\n",
    "NIS      = np.zeros(K)\n",
    "NISnorm  = np.zeros(K)\n",
    "CI       = np.zeros((K, 2))\n",
    "CInorm   = np.zeros((K, 2))\n",
    "NEESes   = np.zeros((K, 3))\n",
    "\n",
    "# For consistency testing\n",
    "alpha    = 0.05\n",
    "                # TODO, add new landmarks:\n",
    "\n",
    "\n",
    "# init\n",
    "eta_pred[0] = poseGT[0]  # we start at the correct position for reference\n",
    "P_pred[0]   = np.zeros((3, 3))  # we also say that we are 100% sure about that\n",
    "\n",
    "# %% Set up plotting\n",
    "# plotting\n",
    "\n",
    "doAssoPlot = True\n",
    "\n",
    "if doAssoPlot:\n",
    "    figAsso, axAsso = plt.subplots(num=1, clear=True)\n",
    "\n",
    "# %% Run simulation\n",
    "N = K\n",
    "\n",
    "print(\"starting sim (\" + str(N) + \" iterations)\")\n",
    "\n",
    "for k, z_k in tqdm(enumerate(z[:N])):\n",
    "\n",
    "    eta_hat[k], P_hat[k], NIS[k], a[k] = slam.update(eta_pred[k], P_pred[k], z_k)\n",
    "\n",
    "    if k < K - 1:\n",
    "        eta_pred[k + 1], P_pred[k + 1] = slam.predict(eta_hat[k], P_hat[k].copy(), odometry[k])\n",
    "\n",
    "    assert (\n",
    "        eta_hat[k].shape[0] == P_hat[k].shape[0]\n",
    "    ), \"dimensions of mean and covariance do not match\"\n",
    "\n",
    "    num_asso = np.count_nonzero(a[k] > -1)\n",
    "\n",
    "    CI[k] = chi2.interval(alpha, 2 * num_asso)\n",
    "\n",
    "    if num_asso > 0:\n",
    "        NISnorm[k] = NIS[k] / (2 * num_asso)\n",
    "        CInorm[k] = CI[k] / (2 * num_asso)\n",
    "    else:\n",
    "        NISnorm[k] = 1\n",
    "        CInorm[k].fill(1)\n",
    "\n",
    "    #NEESes[k] = slam.NEESes(eta_hat[k][:3], P_hat[k][:3,:3], poseGT[k]) \n",
    "\n",
    "    if doAssoPlot and k > 0:\n",
    "        axAsso.clear()\n",
    "        axAsso.grid()\n",
    "        zpred = slam.h(eta_pred[k]).reshape(-1, 2)\n",
    "        axAsso.scatter(z_k[:, 0], z_k[:, 1], label=\"z\")\n",
    "        axAsso.scatter(zpred[:, 0], zpred[:, 1], label=\"zpred\")\n",
    "        xcoords = np.block([[z_k[a[k] > -1, 0]], [zpred[a[k][a[k] > -1], 0]]]).T\n",
    "        ycoords = np.block([[z_k[a[k] > -1, 1]], [zpred[a[k][a[k] > -1], 1]]]).T\n",
    "        for x, y in zip(xcoords, ycoords):\n",
    "            axAsso.plot(x, y, lw=3, c=\"r\")\n",
    "        axAsso.legend()\n",
    "        axAsso.set_title(f\"k = {k}, {np.count_nonzero(a[k] > -1)} associations\")\n",
    "        plt.draw()\n",
    "        plt.pause(0.001)\n",
    "la.cho_solve(S_cho_factors, np.eye(Sa.shape[0]))\n",
    "\n",
    "print(\"sim complete\")\n",
    "\n",
    "pose_est = np.array([x[:3] for x in eta_hat[:N]])\n",
    "lmk_est = [eta_hat_k[3:].reshape(-1, 2) for eta_hat_k in eta_hat]\n",
    "lmk_est_final = lmk_est[N - 1]\n",
    " \n",
    "np.set_printoptions(precision=4, linewidth=100)"
   ]
  },
  {
   "cell_type": "code",
   "execution_count": null,
   "metadata": {},
   "outputs": [],
   "source": [
    "# %% Plotting of results\n",
    "mins = np.amin(landmarks, axis=0)\n",
    "maxs = np.amax(landmarks, axis=0)\n",
    "\n",
    "ranges = maxs - mins\n",
    "offsets = ranges * 0.2\n",
    "\n",
    "mins -= offsets\n",
    "maxs += offsets\n",
    "\n",
    "fig2, ax2 = plt.subplots(num=2, clear=True, figsize=(10,10))\n",
    "# landmarks\n",
    "ax2.scatter(*landmarks.T, c=\"r\", marker=\"^\")\n",
    "ax2.scatter(*lmk_est_final.T, c=\"b\", marker=\".\")\n",
    "# Draw covariance ellipsis of measurements\n",
    "for l, lmk_l in enumerate(lmk_est_final):\n",
    "    idxs = slice(3 + 2 * l, 3 + 2 * l + 2)\n",
    "    rI = P_hat[N - 1][idxs, idxs]\n",
    "    el = ellipse(lmk_l, rI, 5, 200)\n",
    "    ax2.plot(*el.T, \"b\")\n",
    "\n",
    "ax2.plot(*poseGT.T[:2], c=\"r\", label=\"gt\")\n",
    "ax2.plot(*pose_est.T[:2], c=\"g\", label=\"est\")\n",
    "ax2.plot(*ellipse(pose_est[-1, :2], P_hat[N - 1][:2, :2], 5, 200).T, c=\"g\")\n",
    "ax2.set(title=\"results\", xlim=(mins[0], maxs[0]), ylim=(mins[1], maxs[1]))\n",
    "ax2.axis(\"equal\")\n",
    "ax2.grid()"
   ]
  },
  {
   "cell_type": "code",
   "execution_count": null,
   "metadata": {},
   "outputs": [],
   "source": [
    "# %% Consistency\n",
    "\n",
    "# NIS\n",
    "insideCI = (CInorm[:N,0] <= NISnorm[:N]) * (NISnorm[:N] <= CInorm[:N,1])\n",
    "\n",
    "fig3, ax3 = plt.subplots(num=3, clear=True)\n",
    "ax3.plot(CInorm[:N,0], '--')\n",
    "ax3.plot(CInorm[:N,1], '--')\n",
    "ax3.plot(NISnorm[:N], lw=0.5)\n",
    "\n",
    "ax3.set_title(f'NIS, {insideCI.mean()*100}% inside CI')\n",
    "\n",
    "# NEES\n",
    "\n",
    "fig4, ax4 = plt.subplots(nrows=3, ncols=1, figsize=(7, 5), num=4, clear=True, sharex=True)\n",
    "tags = ['all', 'pos', 'heading']\n",
    "dfs = [3, 2, 1]\n",
    "\n",
    "for ax, tag, NEES, df in zip(ax4, tags, NEESes.T, dfs):\n",
    "    CI_NEES = chi2.interval(1 - alpha, df)\n",
    "    ax.plot(np.full(N, CI_NEES[0]), '--')\n",
    "    ax.plot(np.full(N, CI_NEES[1]), '--')\n",
    "    ax.plot(NEES[:N], lw=0.5)\n",
    "    insideCI = (CI_NEES[0] <= NEES) * (NEES <= CI_NEES[1])\n",
    "    ax.set_title(f'NEES {tag}: {insideCI.mean()*100}% inside CI')\n",
    "\n",
    "    CI_ANEES = np.array(chi2.interval(1 - alpha, df*N)) / N\n",
    "    print(f\"CI ANEES {tag}: {CI_ANEES}\")\n",
    "    print(f\"ANEES {tag}: {NEES.mean()}\")\n",
    "\n",
    "fig4.tight_layout()"
   ]
  },
  {
   "cell_type": "code",
   "execution_count": null,
   "metadata": {},
   "outputs": [],
   "source": [
    "# %% RMSE\n",
    "\n",
    "ylabels = ['m', 'deg']\n",
    "scalings = np.array([1, 180/np.pi])\n",
    "\n",
    "fig5, ax5 = plt.subplots(nrows=2, ncols=1, figsize=(7, 5), num=5, clear=True, sharex=True)\n",
    "\n",
    "pos_err = np.linalg.norm(pose_est[:N,:2] - poseGT[:N,:2], axis=1)\n",
    "heading_err = np.abs(utils.wrapToPi(pose_est[:N,2] - poseGT[:N,2]))\n",
    "\n",
    "errs = np.vstack((pos_err, heading_err))\n",
    "\n",
    "for ax, err, tag, ylabel, scaling in zip(ax5, errs, tags[1:], ylabels, scalings):\n",
    "    ax.plot(err*scaling)\n",
    "    ax.set_title(f\"{tag}: RMSE {np.sqrt((err**2).mean())*scaling} {ylabel}\")\n",
    "    ax.set_ylabel(f\"[{ylabel}]\")\n",
    "    ax.grid()\n",
    "\n",
    "fig5.tight_layout()"
   ]
  },
  {
   "cell_type": "code",
   "execution_count": null,
   "metadata": {},
   "outputs": [],
   "source": [
    "# %% Movie time\n",
    "playMovie  = False\n",
    "\n",
    "if playMovie:\n",
    "    try:\n",
    "        print(\"recording movie...\")\n",
    "\n",
    "        from celluloid import Camera\n",
    "\n",
    "        pauseTime = 0.05\n",
    "        fig_movie, ax_movie = plt.subplots(num=6, clear=True)\n",
    "\n",
    "        camera = Camera(fig_movie)\n",
    "\n",
    "        ax_movie.grid()\n",
    "        ax_movie.set(xlim=(mins[0], maxs[0]), ylim=(mins[1], maxs[1]))\n",
    "        camera.snap()\n",
    "\n",
    "        for k in tqdm(range(N)):\n",
    "            ax_movie.scatter(*landmarks.T, c=\"r\", marker=\"^\")\n",
    "            ax_movie.plot(*poseGT[:k, :2].T, \"r-\")\n",
    "            ax_movie.plot(*pose_est[:k, :2].T, \"g-\")\n",
    "            ax_movie.scatter(*lmk_est[k].T, c=\"b\", marker=\".\")\n",
    "\n",
    "            if k > 0:\n",
    "                el = ellipse(pose_est[k, :2], P_hat[k][:2, :2], 5, 200)\n",
    "                ax_movie.plot(*el.T, \"g\")\n",
    "\n",
    "            numLmk = lmk_est[k].shape[0]\n",
    "            for l, lmk_l in enumerate(lmk_est[k]):\n",
    "                idxs = slice(3 + 2 * l, 3 + 2 * l + 2)\n",
    "                rI = P_hat[k][idxs, idxs]\n",
    "                el = ellipse(lmk_l, rI, 5, 200)\n",
    "                ax_movie.plot(*el.T, \"b\")\n",
    "\n",
    "            camera.snap()\n",
    "        animation = camera.animate(interval=100, blit=True, repeat=False)\n",
    "        print(\"playing movie\")\n",
    "\n",
    "    except ImportError:\n",
    "        print(\n",
    "            \"Install celluloid module, \\n\\n$ pip install celluloid\\n\\nto get fancy animation of EKFSLAM.\"\n",
    "        )\n",
    "\n",
    "plt.show()\n",
    "# %%"
   ]
  }
 ],
 "metadata": {
  "kernelspec": {
   "display_name": "Python 3",
   "language": "python",
   "name": "python3"
  },
  "language_info": {
   "codemirror_mode": {
    "name": "ipython",
    "version": 3
   },
   "file_extension": ".py",
   "mimetype": "text/x-python",
   "name": "python",
   "nbconvert_exporter": "python",
   "pygments_lexer": "ipython3",
   "version": "3.6.9"
  }
 },
 "nbformat": 4,
 "nbformat_minor": 4
}
